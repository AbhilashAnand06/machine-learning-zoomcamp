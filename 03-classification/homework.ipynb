{
 "cells": [
  {
   "cell_type": "code",
   "execution_count": 1,
   "id": "0f249358",
   "metadata": {},
   "outputs": [
    {
     "name": "stdout",
     "output_type": "stream",
     "text": [
      "--2025-10-15 20:42:46--  https://raw.githubusercontent.com/alexeygrigorev/datasets/master/course_lead_scoring.csv\n",
      "Resolving raw.githubusercontent.com (raw.githubusercontent.com)... 185.199.109.133, 185.199.110.133, 185.199.111.133, ...\n",
      "Connecting to raw.githubusercontent.com (raw.githubusercontent.com)|185.199.109.133|:443... connected.\n",
      "HTTP request sent, awaiting response... 200 OK\n",
      "Length: 80876 (79K) [text/plain]\n",
      "Saving to: ‘course_lead_scoring.csv’\n",
      "\n",
      "course_lead_scoring 100%[===================>]  78.98K  --.-KB/s    in 0.003s  \n",
      "\n",
      "2025-10-15 20:42:46 (29.6 MB/s) - ‘course_lead_scoring.csv’ saved [80876/80876]\n",
      "\n"
     ]
    }
   ],
   "source": [
    "!wget https://raw.githubusercontent.com/alexeygrigorev/datasets/master/course_lead_scoring.csv"
   ]
  },
  {
   "cell_type": "code",
   "execution_count": 12,
   "id": "a03708c1",
   "metadata": {},
   "outputs": [
    {
     "data": {
      "text/html": [
       "<div>\n",
       "<style scoped>\n",
       "    .dataframe tbody tr th:only-of-type {\n",
       "        vertical-align: middle;\n",
       "    }\n",
       "\n",
       "    .dataframe tbody tr th {\n",
       "        vertical-align: top;\n",
       "    }\n",
       "\n",
       "    .dataframe thead th {\n",
       "        text-align: right;\n",
       "    }\n",
       "</style>\n",
       "<table border=\"1\" class=\"dataframe\">\n",
       "  <thead>\n",
       "    <tr style=\"text-align: right;\">\n",
       "      <th></th>\n",
       "      <th>lead_source</th>\n",
       "      <th>industry</th>\n",
       "      <th>number_of_courses_viewed</th>\n",
       "      <th>annual_income</th>\n",
       "      <th>employment_status</th>\n",
       "      <th>location</th>\n",
       "      <th>interaction_count</th>\n",
       "      <th>lead_score</th>\n",
       "      <th>converted</th>\n",
       "    </tr>\n",
       "  </thead>\n",
       "  <tbody>\n",
       "    <tr>\n",
       "      <th>0</th>\n",
       "      <td>paid_ads</td>\n",
       "      <td>NaN</td>\n",
       "      <td>1</td>\n",
       "      <td>79450.0</td>\n",
       "      <td>unemployed</td>\n",
       "      <td>south_america</td>\n",
       "      <td>4</td>\n",
       "      <td>0.94</td>\n",
       "      <td>1</td>\n",
       "    </tr>\n",
       "    <tr>\n",
       "      <th>1</th>\n",
       "      <td>social_media</td>\n",
       "      <td>retail</td>\n",
       "      <td>1</td>\n",
       "      <td>46992.0</td>\n",
       "      <td>employed</td>\n",
       "      <td>south_america</td>\n",
       "      <td>1</td>\n",
       "      <td>0.80</td>\n",
       "      <td>0</td>\n",
       "    </tr>\n",
       "    <tr>\n",
       "      <th>2</th>\n",
       "      <td>events</td>\n",
       "      <td>healthcare</td>\n",
       "      <td>5</td>\n",
       "      <td>78796.0</td>\n",
       "      <td>unemployed</td>\n",
       "      <td>australia</td>\n",
       "      <td>3</td>\n",
       "      <td>0.69</td>\n",
       "      <td>1</td>\n",
       "    </tr>\n",
       "    <tr>\n",
       "      <th>3</th>\n",
       "      <td>paid_ads</td>\n",
       "      <td>retail</td>\n",
       "      <td>2</td>\n",
       "      <td>83843.0</td>\n",
       "      <td>NaN</td>\n",
       "      <td>australia</td>\n",
       "      <td>1</td>\n",
       "      <td>0.87</td>\n",
       "      <td>0</td>\n",
       "    </tr>\n",
       "    <tr>\n",
       "      <th>4</th>\n",
       "      <td>referral</td>\n",
       "      <td>education</td>\n",
       "      <td>3</td>\n",
       "      <td>85012.0</td>\n",
       "      <td>self_employed</td>\n",
       "      <td>europe</td>\n",
       "      <td>3</td>\n",
       "      <td>0.62</td>\n",
       "      <td>1</td>\n",
       "    </tr>\n",
       "  </tbody>\n",
       "</table>\n",
       "</div>"
      ],
      "text/plain": [
       "    lead_source    industry  number_of_courses_viewed  annual_income  \\\n",
       "0      paid_ads         NaN                         1        79450.0   \n",
       "1  social_media      retail                         1        46992.0   \n",
       "2        events  healthcare                         5        78796.0   \n",
       "3      paid_ads      retail                         2        83843.0   \n",
       "4      referral   education                         3        85012.0   \n",
       "\n",
       "  employment_status       location  interaction_count  lead_score  converted  \n",
       "0        unemployed  south_america                  4        0.94          1  \n",
       "1          employed  south_america                  1        0.80          0  \n",
       "2        unemployed      australia                  3        0.69          1  \n",
       "3               NaN      australia                  1        0.87          0  \n",
       "4     self_employed         europe                  3        0.62          1  "
      ]
     },
     "execution_count": 12,
     "metadata": {},
     "output_type": "execute_result"
    }
   ],
   "source": [
    "import pandas as pd\n",
    "\n",
    "df = pd.read_csv(\"course_lead_scoring.csv\")\n",
    "df.head()"
   ]
  },
  {
   "cell_type": "code",
   "execution_count": 13,
   "id": "7f5ab2e7",
   "metadata": {},
   "outputs": [
    {
     "name": "stdout",
     "output_type": "stream",
     "text": [
      "lead_source                 128\n",
      "industry                    134\n",
      "number_of_courses_viewed      0\n",
      "annual_income               181\n",
      "employment_status           100\n",
      "location                     63\n",
      "interaction_count             0\n",
      "lead_score                    0\n",
      "converted                     0\n",
      "dtype: int64\n",
      "\n",
      "lead_source                  object\n",
      "industry                     object\n",
      "number_of_courses_viewed      int64\n",
      "annual_income               float64\n",
      "employment_status            object\n",
      "location                     object\n",
      "interaction_count             int64\n",
      "lead_score                  float64\n",
      "converted                     int64\n",
      "dtype: object\n"
     ]
    }
   ],
   "source": [
    "print(df.isna().sum())\n",
    "print()\n",
    "print(df.dtypes)\n"
   ]
  },
  {
   "cell_type": "code",
   "execution_count": 14,
   "id": "482c77c8",
   "metadata": {},
   "outputs": [
    {
     "name": "stdout",
     "output_type": "stream",
     "text": [
      "Numerical columns: ['number_of_courses_viewed', 'annual_income', 'interaction_count', 'lead_score', 'converted']\n",
      "Categorical columns: ['lead_source', 'industry', 'employment_status', 'location']\n"
     ]
    },
    {
     "data": {
      "text/html": [
       "<div>\n",
       "<style scoped>\n",
       "    .dataframe tbody tr th:only-of-type {\n",
       "        vertical-align: middle;\n",
       "    }\n",
       "\n",
       "    .dataframe tbody tr th {\n",
       "        vertical-align: top;\n",
       "    }\n",
       "\n",
       "    .dataframe thead th {\n",
       "        text-align: right;\n",
       "    }\n",
       "</style>\n",
       "<table border=\"1\" class=\"dataframe\">\n",
       "  <thead>\n",
       "    <tr style=\"text-align: right;\">\n",
       "      <th></th>\n",
       "      <th>lead_source</th>\n",
       "      <th>industry</th>\n",
       "      <th>number_of_courses_viewed</th>\n",
       "      <th>annual_income</th>\n",
       "      <th>employment_status</th>\n",
       "      <th>location</th>\n",
       "      <th>interaction_count</th>\n",
       "      <th>lead_score</th>\n",
       "      <th>converted</th>\n",
       "    </tr>\n",
       "  </thead>\n",
       "  <tbody>\n",
       "    <tr>\n",
       "      <th>0</th>\n",
       "      <td>paid_ads</td>\n",
       "      <td>NA</td>\n",
       "      <td>1</td>\n",
       "      <td>79450.0</td>\n",
       "      <td>unemployed</td>\n",
       "      <td>south_america</td>\n",
       "      <td>4</td>\n",
       "      <td>0.94</td>\n",
       "      <td>1</td>\n",
       "    </tr>\n",
       "    <tr>\n",
       "      <th>1</th>\n",
       "      <td>social_media</td>\n",
       "      <td>retail</td>\n",
       "      <td>1</td>\n",
       "      <td>46992.0</td>\n",
       "      <td>employed</td>\n",
       "      <td>south_america</td>\n",
       "      <td>1</td>\n",
       "      <td>0.80</td>\n",
       "      <td>0</td>\n",
       "    </tr>\n",
       "    <tr>\n",
       "      <th>2</th>\n",
       "      <td>events</td>\n",
       "      <td>healthcare</td>\n",
       "      <td>5</td>\n",
       "      <td>78796.0</td>\n",
       "      <td>unemployed</td>\n",
       "      <td>australia</td>\n",
       "      <td>3</td>\n",
       "      <td>0.69</td>\n",
       "      <td>1</td>\n",
       "    </tr>\n",
       "    <tr>\n",
       "      <th>3</th>\n",
       "      <td>paid_ads</td>\n",
       "      <td>retail</td>\n",
       "      <td>2</td>\n",
       "      <td>83843.0</td>\n",
       "      <td>NA</td>\n",
       "      <td>australia</td>\n",
       "      <td>1</td>\n",
       "      <td>0.87</td>\n",
       "      <td>0</td>\n",
       "    </tr>\n",
       "    <tr>\n",
       "      <th>4</th>\n",
       "      <td>referral</td>\n",
       "      <td>education</td>\n",
       "      <td>3</td>\n",
       "      <td>85012.0</td>\n",
       "      <td>self_employed</td>\n",
       "      <td>europe</td>\n",
       "      <td>3</td>\n",
       "      <td>0.62</td>\n",
       "      <td>1</td>\n",
       "    </tr>\n",
       "  </tbody>\n",
       "</table>\n",
       "</div>"
      ],
      "text/plain": [
       "    lead_source    industry  number_of_courses_viewed  annual_income  \\\n",
       "0      paid_ads          NA                         1        79450.0   \n",
       "1  social_media      retail                         1        46992.0   \n",
       "2        events  healthcare                         5        78796.0   \n",
       "3      paid_ads      retail                         2        83843.0   \n",
       "4      referral   education                         3        85012.0   \n",
       "\n",
       "  employment_status       location  interaction_count  lead_score  converted  \n",
       "0        unemployed  south_america                  4        0.94          1  \n",
       "1          employed  south_america                  1        0.80          0  \n",
       "2        unemployed      australia                  3        0.69          1  \n",
       "3                NA      australia                  1        0.87          0  \n",
       "4     self_employed         europe                  3        0.62          1  "
      ]
     },
     "execution_count": 14,
     "metadata": {},
     "output_type": "execute_result"
    }
   ],
   "source": [
    "num_cols = df.select_dtypes(include=['int64', 'float64']).columns\n",
    "print(\"Numerical columns:\", num_cols.tolist())\n",
    "cat_cols = df.select_dtypes(include=['object']).columns\n",
    "print(\"Categorical columns:\", cat_cols.tolist())\n",
    "\n",
    "df[num_cols] = df[num_cols].fillna(0)\n",
    "df[cat_cols] = df[cat_cols].fillna('NA')\n",
    "\n",
    "df.head()"
   ]
  },
  {
   "cell_type": "code",
   "execution_count": 15,
   "id": "1a6e5824",
   "metadata": {},
   "outputs": [
    {
     "data": {
      "text/plain": [
       "lead_source                 0\n",
       "industry                    0\n",
       "number_of_courses_viewed    0\n",
       "annual_income               0\n",
       "employment_status           0\n",
       "location                    0\n",
       "interaction_count           0\n",
       "lead_score                  0\n",
       "converted                   0\n",
       "dtype: int64"
      ]
     },
     "execution_count": 15,
     "metadata": {},
     "output_type": "execute_result"
    }
   ],
   "source": [
    "df.isna().sum()"
   ]
  },
  {
   "cell_type": "code",
   "execution_count": 16,
   "id": "fb4df060",
   "metadata": {},
   "outputs": [
    {
     "name": "stdout",
     "output_type": "stream",
     "text": [
      "Mode of 'industry': retail\n"
     ]
    }
   ],
   "source": [
    "# Q1\n",
    "\n",
    "# mode for column 'industry'\n",
    "mode_industry = df['industry'].mode()[0]\n",
    "print(\"Mode of 'industry':\", mode_industry)"
   ]
  },
  {
   "cell_type": "code",
   "execution_count": 17,
   "id": "19707d42",
   "metadata": {},
   "outputs": [
    {
     "name": "stdout",
     "output_type": "stream",
     "text": [
      "Correlation matrix:\n",
      "                           interaction_count  lead_score  \\\n",
      "interaction_count                  1.000000    0.009888   \n",
      "lead_score                         0.009888    1.000000   \n",
      "number_of_courses_viewed          -0.023565   -0.004879   \n",
      "annual_income                      0.027036    0.015610   \n",
      "\n",
      "                          number_of_courses_viewed  annual_income  \n",
      "interaction_count                        -0.023565       0.027036  \n",
      "lead_score                               -0.004879       0.015610  \n",
      "number_of_courses_viewed                  1.000000       0.009770  \n",
      "annual_income                             0.009770       1.000000  \n",
      "The pair of numerical features with the highest correlation is: ('annual_income', 'interaction_count') with a correlation of 0.027036472404814417\n"
     ]
    }
   ],
   "source": [
    "# Q2\n",
    "\n",
    "# correlation between numerical columns\n",
    "corr_cols = ['interaction_count', 'lead_score', 'number_of_courses_viewed', 'annual_income']\n",
    "correlation_matrix = df[corr_cols].corr()\n",
    "print(\"Correlation matrix:\\n\", correlation_matrix)\n",
    "# Which pair of numerical features has the highest correlation?\n",
    "import numpy as np\n",
    "# Set the diagonal and lower triangle to NaN to avoid self-correlation and duplicate pairs\n",
    "corr_matrix_upper = correlation_matrix.where(np.triu(np.ones(correlation_matrix.shape), k=1).astype(bool))\n",
    "# Unstack and drop NaN values\n",
    "corr_pairs = corr_matrix_upper.unstack().dropna()\n",
    "# Find the pair with the maximum correlation\n",
    "max_corr_pair = corr_pairs.idxmax()\n",
    "max_corr_value = corr_pairs.max()\n",
    "print(f\"The pair of numerical features with the highest correlation is: {max_corr_pair} with a correlation of {max_corr_value}\")"
   ]
  },
  {
   "cell_type": "code",
   "execution_count": 18,
   "id": "3e70749b",
   "metadata": {},
   "outputs": [
    {
     "name": "stdout",
     "output_type": "stream",
     "text": [
      "876 293 293\n"
     ]
    }
   ],
   "source": [
    "# Split the data into train/val/test sets (60%/20%/20%)\n",
    "# Make sure that the target value 'converted' is not in your dataframe.\n",
    "from sklearn.model_selection import train_test_split\n",
    "\n",
    "df_copy = df.copy()\n",
    "df_X = df_copy.drop(columns=['converted'])\n",
    "df_y = df_copy['converted']\n",
    "\n",
    "df_X_train, df_X_test, df_y_train, df_y_test = train_test_split(df_X, df_y, test_size=0.2, random_state=42)\n",
    "df_X_train, df_X_val, df_y_train, df_y_val = train_test_split(df_X_train, df_y_train, test_size=0.25, random_state=42) # 0.25 x 0.8 = 0.2\n",
    "print(len(df_X_train), len(df_X_val), len(df_X_test))\n",
    "\n",
    "\n",
    "\n"
   ]
  },
  {
   "cell_type": "code",
   "execution_count": 22,
   "id": "03d449a0",
   "metadata": {},
   "outputs": [
    {
     "name": "stdout",
     "output_type": "stream",
     "text": [
      "Mutual information scores:\n",
      " lead_source          0.04\n",
      "employment_status    0.01\n",
      "industry             0.01\n",
      "location             0.00\n",
      "dtype: float64\n"
     ]
    }
   ],
   "source": [
    "#Q3\n",
    "\n",
    "# Calculate mutual information between each categorical feature and the target ('converted')\n",
    "from sklearn.feature_selection import mutual_info_classif\n",
    "\n",
    "# encode categorical columns to integer codes\n",
    "X_train_cat = df_X_train[cat_cols].apply(lambda s: s.astype('category').cat.codes)\n",
    "\n",
    "# compute mutual information (features are discrete)\n",
    "mutual_info = mutual_info_classif(X_train_cat, df_y_train, discrete_features=True, random_state=42)\n",
    "\n",
    "# format and print results\n",
    "import pandas as pd\n",
    "mi_series = pd.Series(mutual_info, index=cat_cols).sort_values(ascending=False).round(2)\n",
    "print(\"Mutual information scores:\\n\", mi_series)\n"
   ]
  },
  {
   "cell_type": "code",
   "execution_count": 24,
   "id": "35c13447",
   "metadata": {},
   "outputs": [
    {
     "data": {
      "text/plain": [
       "['lead_source', 'industry', 'employment_status', 'location']"
      ]
     },
     "execution_count": 24,
     "metadata": {},
     "output_type": "execute_result"
    }
   ],
   "source": [
    "list(cat_cols)"
   ]
  },
  {
   "cell_type": "code",
   "execution_count": 25,
   "id": "a7635e01",
   "metadata": {},
   "outputs": [],
   "source": [
    "# Q4\n",
    "\n",
    "# convert categorical columns using one-hot encoding\n",
    "df_X_train_enc = pd.get_dummies(df_X_train, columns=list(cat_cols), drop_first=True)\n",
    "df_X_val_enc = pd.get_dummies(df_X_val, columns=list(cat_cols), drop_first=True)\n",
    "df_X_test_enc = pd.get_dummies(df_X_test, columns=list(cat_cols), drop_first=True)\n",
    "\n",
    "# Align the train, validation, and test sets\n",
    "df_X_val_enc = df_X_val_enc.reindex(columns=df_X_train_enc.columns, fill_value=0)\n",
    "df_X_test_enc = df_X_test_enc.reindex(columns=df_X_train_enc.columns, fill_value=0)\n"
   ]
  },
  {
   "cell_type": "code",
   "execution_count": 26,
   "id": "ee2a0e52",
   "metadata": {},
   "outputs": [
    {
     "name": "stdout",
     "output_type": "stream",
     "text": [
      "Validation Accuracy: 0.7\n"
     ]
    }
   ],
   "source": [
    "# Fit a logistic regression model: model = LogisticRegression(solver='liblinear', C=1.0, max_iter=1000, random_state=42)\n",
    "from sklearn.linear_model import LogisticRegression\n",
    "\n",
    "model = LogisticRegression(solver='liblinear', C=1.0, max_iter=1000, random_state=42)\n",
    "model.fit(df_X_train_enc, df_y_train)\n",
    "# Evaluate the model on the validation set using accuracy score\n",
    "from sklearn.metrics import accuracy_score\n",
    "df_y_val_pred = model.predict(df_X_val_enc)\n",
    "val_accuracy = accuracy_score(df_y_val, df_y_val_pred)\n",
    "print(\"Validation Accuracy:\", round(val_accuracy, 2))\n",
    "\n"
   ]
  },
  {
   "cell_type": "code",
   "execution_count": 29,
   "id": "91cb2875",
   "metadata": {},
   "outputs": [
    {
     "data": {
      "text/plain": [
       "0.6996587030716723"
      ]
     },
     "execution_count": 29,
     "metadata": {},
     "output_type": "execute_result"
    }
   ],
   "source": [
    "val_accuracy"
   ]
  },
  {
   "cell_type": "code",
   "execution_count": 33,
   "id": "70b41a0c",
   "metadata": {},
   "outputs": [
    {
     "name": "stdout",
     "output_type": "stream",
     "text": [
      "Validation Accuracy: 0.6996587030716723\n",
      "Difference in accuracy after dropping the least important feature: 0.0\n",
      "Validation Accuracy: 0.6996587030716723\n",
      "Difference in accuracy after dropping the least important feature: 0.0\n",
      "Validation Accuracy: 0.7064846416382252\n",
      "Difference in accuracy after dropping the least important feature: -0.007\n"
     ]
    }
   ],
   "source": [
    "# Q5\n",
    "\n",
    "# Least useful feature using feature elimination\n",
    "# from sklearn.feature_selection import RFE\n",
    "# selector = RFE(model, n_features_to_select=1)\n",
    "# selector = selector.fit(df_X_train_enc, df_y_train)\n",
    "# least_important_feature = df_X_train_enc.columns[~selector.support_][0]\n",
    "# print(\"Least important feature:\", least_important_feature)\n",
    "cols_dropped = ['industry','employment_status','lead_score']\n",
    "for col in cols_dropped:\n",
    "    # Restore the original encoded dataframes for the next iteration\n",
    "    df_X_train_enc_dropped = df_X_train_enc.copy()\n",
    "    df_X_val_enc_dropped = df_X_val_enc.copy()\n",
    "    df_X_test_enc_dropped = df_X_test_enc.copy()\n",
    "    # Drop the least important feature\n",
    "    if col in df_X_train_enc.columns:\n",
    "        df_X_train_enc_dropped = df_X_train_enc.drop(columns=[col])\n",
    "    if col in df_X_val_enc.columns:\n",
    "        df_X_val_enc_dropped = df_X_val_enc.drop(columns=[col])\n",
    "    if col in df_X_test_enc.columns:\n",
    "        df_X_test_enc_dropped = df_X_test_enc.drop(columns=[col])\n",
    "        \n",
    "    model = LogisticRegression(solver='liblinear', C=1.0, max_iter=1000, random_state=42)\n",
    "    model.fit(df_X_train_enc_dropped, df_y_train)\n",
    "    # Evaluate the model on the validation set using accuracy score\n",
    "    from sklearn.metrics import accuracy_score\n",
    "    df_y_val_pred_dropped = model.predict(df_X_val_enc_dropped)\n",
    "    val_accuracy_dropped = accuracy_score(df_y_val, df_y_val_pred_dropped)\n",
    "    print(\"Validation Accuracy:\", val_accuracy_dropped)\n",
    "\n",
    "    print(\"Difference in accuracy after dropping the least important feature:\", round(val_accuracy - val_accuracy_dropped, 3))\n",
    "\n",
    "    # Restore the original encoded dataframes for the next iteration\n",
    "    df_X_train_enc_dropped = df_X_train_enc.copy()\n",
    "    df_X_val_enc_dropped = df_X_val_enc.copy()\n",
    "    df_X_test_enc_dropped = df_X_test_enc.copy()"
   ]
  },
  {
   "cell_type": "code",
   "execution_count": 36,
   "id": "9a482bf4",
   "metadata": {},
   "outputs": [
    {
     "name": "stdout",
     "output_type": "stream",
     "text": [
      "Validation Accuracy for C=0.01: 0.7\n",
      "Validation Accuracy for C=0.1: 0.7\n",
      "Validation Accuracy for C=1: 0.7\n",
      "Validation Accuracy for C=10: 0.7\n",
      "Validation Accuracy for C=100: 0.7\n",
      "Best Validation Accuracy: 0.7\n",
      "Best C: 0.01\n"
     ]
    }
   ],
   "source": [
    "#Q6\n",
    "\n",
    "# train a regularized logistic regression model with C: [0.01, 0.1, 1, 10, 100]\n",
    "C_values = [0.01, 0.1, 1, 10, 100]\n",
    "\n",
    "\n",
    "best_C = None\n",
    "best_val_accuracy = 0\n",
    "for C in C_values:\n",
    "    model = LogisticRegression(solver='liblinear', C=C, max_iter=1000, random_state=42)\n",
    "    model.fit(df_X_train_enc, df_y_train)\n",
    "    df_y_val_pred = model.predict(df_X_val_enc)\n",
    "    val_accuracy = accuracy_score(df_y_val, df_y_val_pred)\n",
    "    print(f\"Validation Accuracy for C={C}: {round(val_accuracy, 3)}\")\n",
    "    if val_accuracy > best_val_accuracy:\n",
    "        best_val_accuracy = val_accuracy\n",
    "        best_C = C\n",
    "print(\"Best Validation Accuracy:\", round(best_val_accuracy, 3))\n",
    "print(\"Best C:\", best_C)\n"
   ]
  },
  {
   "cell_type": "code",
   "execution_count": null,
   "id": "183b8b3a",
   "metadata": {},
   "outputs": [],
   "source": []
  }
 ],
 "metadata": {
  "kernelspec": {
   "display_name": "Python 3",
   "language": "python",
   "name": "python3"
  },
  "language_info": {
   "codemirror_mode": {
    "name": "ipython",
    "version": 3
   },
   "file_extension": ".py",
   "mimetype": "text/x-python",
   "name": "python",
   "nbconvert_exporter": "python",
   "pygments_lexer": "ipython3",
   "version": "3.12.1"
  }
 },
 "nbformat": 4,
 "nbformat_minor": 5
}
